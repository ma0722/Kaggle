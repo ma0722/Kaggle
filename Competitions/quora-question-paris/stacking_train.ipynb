{
 "cells": [
  {
   "cell_type": "code",
   "execution_count": 4,
   "metadata": {
    "collapsed": false
   },
   "outputs": [],
   "source": [
    "import pandas as pd\n",
    "import numpy as np\n",
    "import matplotlib.pyplot as plt\n",
    "import xgboost as xgb\n",
    "%matplotlib inline"
   ]
  },
  {
   "cell_type": "code",
   "execution_count": 127,
   "metadata": {
    "collapsed": true
   },
   "outputs": [],
   "source": [
    "from sklearn.neural_network import MLPClassifier\n",
    "from sklearn.linear_model import LogisticRegression\n",
    "from sklearn.ensemble import GradientBoostingClassifier\n",
    "from sklearn.ensemble import RandomForestClassifier\n",
    "\n",
    "from sklearn.metrics import log_loss\n",
    "from sklearn.metrics import accuracy_score\n",
    "from time import time\n",
    "import random"
   ]
  },
  {
   "cell_type": "code",
   "execution_count": 2,
   "metadata": {
    "collapsed": true
   },
   "outputs": [],
   "source": [
    "data = pd.read_csv('train_data.csv')"
   ]
  },
  {
   "cell_type": "code",
   "execution_count": 70,
   "metadata": {
    "collapsed": false
   },
   "outputs": [],
   "source": [
    "X = data.drop('label', axis = 1)\n",
    "y = data['label']"
   ]
  },
  {
   "cell_type": "code",
   "execution_count": 78,
   "metadata": {
    "collapsed": true
   },
   "outputs": [],
   "source": [
    "from sklearn.model_selection import train_test_split\n",
    "X_train, X_test, y_train, y_test = train_test_split(X, y, test_size=0.3, random_state=0)"
   ]
  },
  {
   "cell_type": "code",
   "execution_count": 79,
   "metadata": {
    "collapsed": false
   },
   "outputs": [],
   "source": [
    "def generate_batch():\n",
    "    batch_num = 5\n",
    "    batch_size = X_train.shape[0] / batch_num\n",
    "    X_batches = []\n",
    "    y_batches = []\n",
    "    for i in range(5):\n",
    "        if i < 4:\n",
    "            X_batches.append(X_train[i * batch_size : (i + 1) * batch_size])\n",
    "            y_batches.append(y_train[i * batch_size : (i + 1) * batch_size])\n",
    "        else:\n",
    "            X_batches.append(X_train[i * batch_size : ])\n",
    "            y_batches.append(y_train[i * batch_size : ])\n",
    "    return X_batches, y_batches"
   ]
  },
  {
   "cell_type": "code",
   "execution_count": 131,
   "metadata": {
    "collapsed": true
   },
   "outputs": [],
   "source": [
    "def train_clf(X_batches, y_batches, clf_index):\n",
    "    batch_num = len(X_batches)\n",
    "    clfs = []\n",
    "    outputs = pd.Series()\n",
    "    for i in range(batch_num):\n",
    "        clf = None\n",
    "        X_current = pd.DataFrame()\n",
    "        y_current = pd.Series()\n",
    "        for j in range(batch_num):\n",
    "            if j != i:\n",
    "                X_current = X_current.append(X_batches[j], ignore_index=True)\n",
    "                y_current = y_current.append(y_batches[j], ignore_index=False)\n",
    "\n",
    "        if clf_index == 'LR':\n",
    "            clf = LogisticRegression()\n",
    "        elif clf_index == 'NN':\n",
    "            clf = MLPClassifier(solver='lbfgs', alpha=1e-5, hidden_layer_sizes=(30, 20), random_state=random.randint(1, 100))\n",
    "        elif clf_index == 'RF':\n",
    "            clf = RandomForestClassifier(n_estimators=20, random_state=random.randint(1, 100))\n",
    "        elif clf_index == 'GBDT':\n",
    "            clf = GradientBoostingClassifier(n_estimators=20, learning_rate=1.0, max_depth=5, random_state=random.randint(1, 100))\n",
    "        else:\n",
    "            return \n",
    "        \n",
    "        clf.fit(X_current, y_current)\n",
    "        output = clf.predict_proba(X_batches[i])[:, 0]\n",
    "        outputs = outputs.append(pd.Series(output), ignore_index=True)\n",
    "        clfs.append(clf)    \n",
    "    return clfs, outputs    "
   ]
  },
  {
   "cell_type": "code",
   "execution_count": 132,
   "metadata": {
    "collapsed": false
   },
   "outputs": [],
   "source": [
    "def stack_one(x_batches, y_batches):\n",
    "    clfs = {\n",
    "        'LR' : [],\n",
    "        'NN' : [],\n",
    "        'RF' : [],\n",
    "        'GBDT' : [],\n",
    "    }\n",
    "    output = pd.DataFrame()\n",
    "    for clf_index in clfs.keys():\n",
    "        clfs[clf_index], output[clf_index] = train_clf(x_batches, y_batches, clf_index)\n",
    "    return clfs, output"
   ]
  },
  {
   "cell_type": "code",
   "execution_count": 133,
   "metadata": {
    "collapsed": false,
    "scrolled": true
   },
   "outputs": [],
   "source": [
    "X_batches, y_batches = generate_batch()\n",
    "clfs, X_mix = stack_one(X_batches, y_batches) "
   ]
  },
  {
   "cell_type": "code",
   "execution_count": 135,
   "metadata": {
    "collapsed": false
   },
   "outputs": [],
   "source": [
    "X_mix.to_csv('mid_train.csv', index = False)"
   ]
  },
  {
   "cell_type": "code",
   "execution_count": 141,
   "metadata": {
    "collapsed": false
   },
   "outputs": [],
   "source": [
    "def stack_two(X_trian, y_train):\n",
    "    clf = LogisticRegression()\n",
    "    clf.fit(X_trian, y_train)\n",
    "    return clf "
   ]
  },
  {
   "cell_type": "code",
   "execution_count": 147,
   "metadata": {
    "collapsed": true
   },
   "outputs": [],
   "source": [
    "def test(clfs, clf_two, X_test, y_test):\n",
    "    outputs = pd.DataFrame()\n",
    "    for clf_index in clfs.keys():\n",
    "        outputs[clf_index] = np.zeros(X_test.shape[0])\n",
    "        for clf in clfs[clf_index]:\n",
    "            outputs[clf_index] += clf.predict_proba(X_test)[:, 0]\n",
    "        outputs[clf_index] /= len(clfs[clf_index])\n",
    "    res = clf_two.predict_proba(outputs)\n",
    "    print clf_two.score(outputs, y_test)\n",
    "    return res"
   ]
  },
  {
   "cell_type": "code",
   "execution_count": 143,
   "metadata": {
    "collapsed": true
   },
   "outputs": [],
   "source": [
    "clf_two = stack_two(X_mix, y_train) "
   ]
  },
  {
   "cell_type": "code",
   "execution_count": 148,
   "metadata": {
    "collapsed": false
   },
   "outputs": [
    {
     "name": "stdout",
     "output_type": "stream",
     "text": [
      "0.805881916446\n"
     ]
    }
   ],
   "source": [
    "res = test(clfs, clf_two, X_test, y_test)"
   ]
  },
  {
   "cell_type": "code",
   "execution_count": 150,
   "metadata": {
    "collapsed": false
   },
   "outputs": [
    {
     "data": {
      "text/plain": [
       "0.40862443709323809"
      ]
     },
     "execution_count": 150,
     "metadata": {},
     "output_type": "execute_result"
    }
   ],
   "source": [
    "from sklearn.metrics import log_loss\n",
    "log_loss(y_test, res)"
   ]
  },
  {
   "cell_type": "code",
   "execution_count": null,
   "metadata": {
    "collapsed": true
   },
   "outputs": [],
   "source": []
  }
 ],
 "metadata": {
  "kernelspec": {
   "display_name": "Python 2",
   "language": "python",
   "name": "python2"
  },
  "language_info": {
   "codemirror_mode": {
    "name": "ipython",
    "version": 2
   },
   "file_extension": ".py",
   "mimetype": "text/x-python",
   "name": "python",
   "nbconvert_exporter": "python",
   "pygments_lexer": "ipython2",
   "version": "2.7.12"
  }
 },
 "nbformat": 4,
 "nbformat_minor": 2
}

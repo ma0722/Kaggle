{
 "cells": [
  {
   "cell_type": "code",
   "execution_count": 1,
   "metadata": {
    "collapsed": false
   },
   "outputs": [],
   "source": [
    "import pandas as pd\n",
    "import numpy as np\n",
    "import matplotlib.pyplot as plt\n",
    "%matplotlib inline"
   ]
  },
  {
   "cell_type": "code",
   "execution_count": 2,
   "metadata": {
    "collapsed": true
   },
   "outputs": [],
   "source": [
    "data = pd.read_csv('creditcard.csv')"
   ]
  },
  {
   "cell_type": "code",
   "execution_count": 3,
   "metadata": {
    "collapsed": false
   },
   "outputs": [
    {
     "data": {
      "text/plain": [
       "0.001727485630620034"
      ]
     },
     "execution_count": 3,
     "metadata": {},
     "output_type": "execute_result"
    }
   ],
   "source": [
    "data[data['Class'] == 1].shape[0] * 1./ data.shape[0]"
   ]
  },
  {
   "cell_type": "code",
   "execution_count": 4,
   "metadata": {
    "collapsed": false
   },
   "outputs": [],
   "source": [
    "mean = data['Amount'].mean()\n",
    "std = data['Amount'].std()\n",
    "data['Amount'] = (data['Amount'] - mean) / std"
   ]
  },
  {
   "cell_type": "code",
   "execution_count": 5,
   "metadata": {
    "collapsed": false
   },
   "outputs": [],
   "source": [
    "X = data.drop('Class', axis=1)\n",
    "y = data['Class']"
   ]
  },
  {
   "cell_type": "code",
   "execution_count": 6,
   "metadata": {
    "collapsed": false
   },
   "outputs": [],
   "source": [
    "from sklearn.model_selection import train_test_split\n",
    "from sklearn.linear_model import LogisticRegression\n",
    "from sklearn.ensemble import RandomForestClassifier\n",
    "from sklearn.model_selection import StratifiedKFold\n",
    "from sklearn.model_selection import cross_val_score\n",
    "from sklearn.metrics import recall_score\n",
    "from sklearn.metrics import precision_score\n",
    "from sklearn.metrics import make_scorer\n",
    "from sklearn.metrics import accuracy_score\n",
    "import random"
   ]
  },
  {
   "cell_type": "code",
   "execution_count": 66,
   "metadata": {
    "collapsed": true
   },
   "outputs": [],
   "source": [
    "def analysis(clf, X,  y):\n",
    "    record = pd.DataFrame()\n",
    "    record['y'] = y\n",
    "    record['pred'] = clf.predict(X)\n",
    "    acc = accuracy_score(record['y'], record['pred'])\n",
    "    precision = precision_score(record['y'], record['pred'])\n",
    "    recall = recall_score(record['y'], record['pred'])\n",
    "#     print \"precision_score {}\".format(precision)\n",
    "#     print \"recall_score {}\".format(recall)\n",
    "    return recall, precision"
   ]
  },
  {
   "cell_type": "code",
   "execution_count": 49,
   "metadata": {
    "collapsed": false
   },
   "outputs": [],
   "source": [
    "def model_score(clf, X, y):\n",
    "    skf = StratifiedKFold(n_splits=5, shuffle=True, random_state=random.randint(1, 100))\n",
    "    my_scorer1 = make_scorer(recall_score)\n",
    "    my_scorer2 = make_scorer(precision_score)\n",
    "\n",
    "    scores1 = cross_val_score(clf, X, y, scoring=my_scorer1, cv=skf)\n",
    "    scores2 = cross_val_score(clf, X, y, scoring=my_scorer2, cv=skf)\n",
    "    \n",
    "    print \"recall {}\".format(scores1.mean())\n",
    "    print \"precision {}\".format(scores2.mean())\n",
    "\n",
    "    return "
   ]
  },
  {
   "cell_type": "code",
   "execution_count": 37,
   "metadata": {
    "collapsed": false
   },
   "outputs": [
    {
     "name": "stdout",
     "output_type": "stream",
     "text": [
      "default\n",
      "recall 0.654524840239\n",
      "precision 0.734290959718\n"
     ]
    }
   ],
   "source": [
    "clf = LogisticRegression(penalty='l2', intercept_scaling=1., random_state=random.randint(1, 100))\n",
    "print \"default\"\n",
    "model_score(clf, X, y)"
   ]
  },
  {
   "cell_type": "code",
   "execution_count": 39,
   "metadata": {
    "collapsed": false
   },
   "outputs": [
    {
     "name": "stdout",
     "output_type": "stream",
     "text": [
      "balanced\n",
      "recall 0.904452690167\n",
      "precision 0.0659131368346\n"
     ]
    }
   ],
   "source": [
    "# 本质上还是over-smalping\n",
    "clf = LogisticRegression(penalty='l2', class_weight='balanced',intercept_scaling=1., random_state=random.randint(1, 100))\n",
    "print \"balanced\"\n",
    "model_score(clf, X, y)"
   ]
  },
  {
   "cell_type": "code",
   "execution_count": 61,
   "metadata": {
    "collapsed": false
   },
   "outputs": [
    {
     "name": "stdout",
     "output_type": "stream",
     "text": [
      "threshold 0.998272514369\n",
      "recall 0.855691056911\n",
      "precision 0.00845923096711\n"
     ]
    }
   ],
   "source": [
    "clf = LogisticRegression(penalty='l2', intercept_scaling=1., random_state=random.randint(1, 100))\n",
    "skf = StratifiedKFold(n_splits=2, shuffle=True, random_state=random.randint(1, 100))\n",
    "recall_scores = []\n",
    "precision_scores = []\n",
    "scaling = float(y.shape[0] - y.sum()) / y.shape[0]\n",
    "for train_index, test_index in skf.split(X, y):\n",
    "    X_train, X_test = X.loc[train_index], X.loc[test_index]\n",
    "    y_train, y_test = y.loc[train_index], y.loc[test_index]\n",
    "    clf.fit(X_train, y_train)\n",
    "    predict_proba = clf.predict_proba(X_test)\n",
    "    predict = (predict_proba[:, 0] < scaling).astype(int)\n",
    "    recall_scores.append(recall_score(y_test, predict))\n",
    "    precision_scores.append(precision_score(y_test, predict))\n",
    "print \"threshold {}\".format(scaling)\n",
    "print \"recall {}\".format(np.array(recall_scores).mean())\n",
    "print \"precision {}\".format(np.array(precision_scores).mean())"
   ]
  },
  {
   "cell_type": "code",
   "execution_count": null,
   "metadata": {
    "collapsed": true
   },
   "outputs": [],
   "source": [
    "#欠抽样 https://www.kaggle.com/joparga3/d/dalpozz/creditcardfraud/in-depth-skewed-data-classif-93-recall-acc-now\n",
    "#recall 0.9115646258503401\n",
    "#precision 0.011938702779757662"
   ]
  },
  {
   "cell_type": "code",
   "execution_count": 18,
   "metadata": {
    "collapsed": false
   },
   "outputs": [],
   "source": [
    "def SMOTE_over_sampling(X, y):\n",
    "    from imblearn.over_sampling import SMOTE\n",
    "    sm = SMOTE(kind='regular')\n",
    "#     sm = SMOTE(kind='svm')\n",
    "    X_resampled, y_resampled = sm.fit_sample(X, y)\n",
    "    return X_resampled, y_resampled"
   ]
  },
  {
   "cell_type": "code",
   "execution_count": 69,
   "metadata": {
    "collapsed": false
   },
   "outputs": [
    {
     "name": "stdout",
     "output_type": "stream",
     "text": [
      "over-smalping: SMOTE\n",
      "recall 0.865853658537\n",
      "precision 0.111328295814\n"
     ]
    }
   ],
   "source": [
    "def train(X, y):\n",
    "    print \"over-smalping: SMOTE\"\n",
    "    clf = LogisticRegression(penalty='l2', intercept_scaling=1., random_state=random.randint(1, 100))\n",
    "    skf = StratifiedKFold(n_splits=2, shuffle=True, random_state=random.randint(1, 100))\n",
    "    recall_scores = []\n",
    "    precision_scores = []\n",
    "    for train_index, test_index in skf.split(X, y):\n",
    "        X_train, X_test = X.loc[train_index], X.loc[test_index]\n",
    "        y_train, y_test = y.loc[train_index], y.loc[test_index]\n",
    "        X_resampled, y_resampled = SMOTE_over_sampling(X_train, y_train)\n",
    "        clf.fit(X_resampled, y_resampled)\n",
    "        recall_score, precision_socre = analysis(clf, X_test, y_test) \n",
    "        recall_scores.append(recall_score)\n",
    "        precision_scores.append(precision_socre)\n",
    "    print \"recall {}\".format(np.array(recall_scores).mean())\n",
    "    print \"precision {}\".format(np.array(precision_scores).mean())\n",
    "    return clf\n",
    "clf = train(X, y)"
   ]
  },
  {
   "cell_type": "code",
   "execution_count": null,
   "metadata": {
    "collapsed": true
   },
   "outputs": [],
   "source": []
  }
 ],
 "metadata": {
  "kernelspec": {
   "display_name": "Python 2",
   "language": "python",
   "name": "python2"
  },
  "language_info": {
   "codemirror_mode": {
    "name": "ipython",
    "version": 2
   },
   "file_extension": ".py",
   "mimetype": "text/x-python",
   "name": "python",
   "nbconvert_exporter": "python",
   "pygments_lexer": "ipython2",
   "version": "2.7.12"
  }
 },
 "nbformat": 4,
 "nbformat_minor": 2
}

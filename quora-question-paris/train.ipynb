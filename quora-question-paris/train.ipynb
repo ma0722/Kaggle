{
 "cells": [
  {
   "cell_type": "code",
   "execution_count": 1,
   "metadata": {
    "collapsed": false,
    "deletable": true,
    "editable": true
   },
   "outputs": [
    {
     "name": "stderr",
     "output_type": "stream",
     "text": [
      "/usr/local/lib/python2.7/dist-packages/sklearn/cross_validation.py:44: DeprecationWarning: This module was deprecated in version 0.18 in favor of the model_selection module into which all the refactored classes and functions are moved. Also note that the interface of the new CV iterators are different from that of this module. This module will be removed in 0.20.\n",
      "  \"This module will be removed in 0.20.\", DeprecationWarning)\n"
     ]
    }
   ],
   "source": [
    "import pandas as pd\n",
    "import numpy as np\n",
    "import matplotlib.pyplot as plt\n",
    "import xgboost as xgb\n",
    "%matplotlib inline"
   ]
  },
  {
   "cell_type": "code",
   "execution_count": 2,
   "metadata": {
    "collapsed": false,
    "deletable": true,
    "editable": true
   },
   "outputs": [],
   "source": [
    "data = pd.read_csv('done_data.csv')\n",
    "a = pd.read_csv('a.csv')"
   ]
  },
  {
   "cell_type": "code",
   "execution_count": 3,
   "metadata": {
    "collapsed": true,
    "deletable": true,
    "editable": true
   },
   "outputs": [],
   "source": [
    "X = data.drop('label', axis = 1)\n",
    "y = data['label']"
   ]
  },
  {
   "cell_type": "code",
   "execution_count": 4,
   "metadata": {
    "collapsed": false,
    "deletable": true,
    "editable": true
   },
   "outputs": [],
   "source": [
    "X['word_match'] = a['word_match']\n",
    "X['tfidf_word_match'] = a['tfidf_word_match']\n",
    "X = X.fillna(0)"
   ]
  },
  {
   "cell_type": "code",
   "execution_count": 5,
   "metadata": {
    "collapsed": false,
    "deletable": true,
    "editable": true
   },
   "outputs": [],
   "source": [
    "from sklearn.model_selection import RandomizedSearchCV\n",
    "from sklearn.model_selection import RandomizedSearchCV\n",
    "from sklearn.model_selection import GridSearchCV\n",
    "from sklearn.metrics import log_loss\n",
    "from sklearn.metrics import accuracy_score\n",
    "from time import time"
   ]
  },
  {
   "cell_type": "code",
   "execution_count": 6,
   "metadata": {
    "collapsed": true,
    "deletable": true,
    "editable": true
   },
   "outputs": [],
   "source": [
    "from sklearn.cross_validation import train_test_split\n",
    "X_train, X_test, y_train, y_test = train_test_split(X, y, test_size = 0.2, random_state = 15)"
   ]
  },
  {
   "cell_type": "code",
   "execution_count": 7,
   "metadata": {
    "collapsed": false,
    "deletable": true,
    "editable": true
   },
   "outputs": [
    {
     "name": "stdout",
     "output_type": "stream",
     "text": [
      "Time used 41.0776560307\n"
     ]
    },
    {
     "data": {
      "text/plain": [
       "0.70937940587202253"
      ]
     },
     "execution_count": 7,
     "metadata": {},
     "output_type": "execute_result"
    }
   ],
   "source": [
    "def LR():\n",
    "    start = time()\n",
    "    from sklearn.linear_model import LogisticRegression\n",
    "    clf = LogisticRegression()\n",
    "    clf.fit(X_train, y_train)\n",
    "    used_time = time() - start\n",
    "    print 'Time used {}'.format(used_time)\n",
    "    return clf\n",
    "clf_LR = LR()\n",
    "clf_LR.score(X_test, y_test)"
   ]
  },
  {
   "cell_type": "code",
   "execution_count": 8,
   "metadata": {
    "collapsed": false,
    "deletable": true,
    "editable": true
   },
   "outputs": [
    {
     "data": {
      "text/plain": [
       "0.58288433627563419"
      ]
     },
     "execution_count": 8,
     "metadata": {},
     "output_type": "execute_result"
    }
   ],
   "source": [
    "# print clf_LR.predict_proba(X_test)\n",
    "# print clf_LR.predict(X_test)\n",
    "log_loss(y_test, clf_LR.predict_proba(X_test))   "
   ]
  },
  {
   "cell_type": "code",
   "execution_count": 9,
   "metadata": {
    "collapsed": false,
    "deletable": true,
    "editable": true
   },
   "outputs": [
    {
     "name": "stdout",
     "output_type": "stream",
     "text": [
      "Time used 170.820140839\n"
     ]
    },
    {
     "data": {
      "text/plain": [
       "0.78929728660120213"
      ]
     },
     "execution_count": 9,
     "metadata": {},
     "output_type": "execute_result"
    }
   ],
   "source": [
    "def RF():\n",
    "    from sklearn.ensemble import RandomForestClassifier\n",
    "    start = time()\n",
    "    clf = RandomForestClassifier(n_estimators=20, random_state=0)\n",
    "#     n_iter_search = 30\n",
    "#     random_search = RandomizedSearchCV(clf, param_distributions=param_dist, n_iter=n_iter_search)\n",
    "#     random_search.fit(X_train, y_train)\n",
    "    clf.fit(X_train, y_train)\n",
    "    used_time = time() - start\n",
    "    print 'Time used {}'.format(used_time)\n",
    "    return clf\n",
    "clf_RF = RF()\n",
    "clf_RF.score(X_test, y_test)"
   ]
  },
  {
   "cell_type": "code",
   "execution_count": 10,
   "metadata": {
    "collapsed": false,
    "deletable": true,
    "editable": true
   },
   "outputs": [
    {
     "data": {
      "text/plain": [
       "0.49357498835134"
      ]
     },
     "execution_count": 10,
     "metadata": {},
     "output_type": "execute_result"
    }
   ],
   "source": [
    "log_loss(y_test, clf_RF.predict_proba(X_test)) "
   ]
  },
  {
   "cell_type": "code",
   "execution_count": 11,
   "metadata": {
    "collapsed": false,
    "deletable": true,
    "editable": true
   },
   "outputs": [
    {
     "name": "stdout",
     "output_type": "stream",
     "text": [
      "Time used 355.119706869\n"
     ]
    },
    {
     "data": {
      "text/plain": [
       "0.71248361324791609"
      ]
     },
     "execution_count": 11,
     "metadata": {},
     "output_type": "execute_result"
    }
   ],
   "source": [
    "def xgboost():\n",
    "    from sklearn.ensemble import GradientBoostingClassifier\n",
    "    start = time()\n",
    "    clf = GradientBoostingClassifier(n_estimators=100, learning_rate=1.0,max_depth=1, random_state=0)\n",
    "    clf.fit(X_train, y_train)\n",
    "    used_time = time() - start\n",
    "    print 'Time used {}'.format(used_time)\n",
    "    return clf\n",
    "clf_xgb = xgboost()\n",
    "clf_xgb.score(X_test, y_test)"
   ]
  },
  {
   "cell_type": "code",
   "execution_count": 12,
   "metadata": {
    "collapsed": false,
    "deletable": true,
    "editable": true
   },
   "outputs": [
    {
     "data": {
      "text/plain": [
       "0.57249591862939964"
      ]
     },
     "execution_count": 12,
     "metadata": {},
     "output_type": "execute_result"
    }
   ],
   "source": [
    "log_loss(y_test, clf_xgb.predict_proba(X_test)) "
   ]
  },
  {
   "cell_type": "code",
   "execution_count": 13,
   "metadata": {
    "collapsed": false,
    "deletable": true,
    "editable": true
   },
   "outputs": [
    {
     "name": "stdout",
     "output_type": "stream",
     "text": [
      "[0]\ttrain-logloss:0.689891\tvalid-logloss:0.689913\n",
      "Multiple eval metrics have been passed: 'valid-logloss' will be used for early stopping.\n",
      "\n",
      "Will train until valid-logloss hasn't improved in 50 rounds.\n",
      "[10]\ttrain-logloss:0.663399\tvalid-logloss:0.663621\n",
      "[20]\ttrain-logloss:0.644135\tvalid-logloss:0.644367\n",
      "[30]\ttrain-logloss:0.629663\tvalid-logloss:0.629939\n",
      "[40]\ttrain-logloss:0.6186\tvalid-logloss:0.618919\n",
      "[50]\ttrain-logloss:0.609214\tvalid-logloss:0.609753\n",
      "[60]\ttrain-logloss:0.601371\tvalid-logloss:0.602113\n",
      "[70]\ttrain-logloss:0.594532\tvalid-logloss:0.595455\n",
      "[80]\ttrain-logloss:0.588595\tvalid-logloss:0.589667\n",
      "[90]\ttrain-logloss:0.58306\tvalid-logloss:0.584252\n",
      "[100]\ttrain-logloss:0.578336\tvalid-logloss:0.579626\n",
      "[110]\ttrain-logloss:0.573877\tvalid-logloss:0.575272\n",
      "[120]\ttrain-logloss:0.570058\tvalid-logloss:0.571587\n",
      "[130]\ttrain-logloss:0.566558\tvalid-logloss:0.568185\n",
      "[140]\ttrain-logloss:0.563363\tvalid-logloss:0.565091\n",
      "[150]\ttrain-logloss:0.560313\tvalid-logloss:0.562143\n",
      "[160]\ttrain-logloss:0.557555\tvalid-logloss:0.559506\n",
      "[170]\ttrain-logloss:0.554856\tvalid-logloss:0.556921\n",
      "[180]\ttrain-logloss:0.552354\tvalid-logloss:0.554549\n",
      "[190]\ttrain-logloss:0.550075\tvalid-logloss:0.552372\n",
      "[200]\ttrain-logloss:0.547656\tvalid-logloss:0.550044\n",
      "[210]\ttrain-logloss:0.54555\tvalid-logloss:0.548052\n",
      "[220]\ttrain-logloss:0.543364\tvalid-logloss:0.545995\n",
      "[230]\ttrain-logloss:0.541357\tvalid-logloss:0.544055\n",
      "[240]\ttrain-logloss:0.539432\tvalid-logloss:0.542239\n",
      "[250]\ttrain-logloss:0.537585\tvalid-logloss:0.540516\n",
      "[260]\ttrain-logloss:0.535772\tvalid-logloss:0.538757\n",
      "[270]\ttrain-logloss:0.534101\tvalid-logloss:0.537167\n",
      "[280]\ttrain-logloss:0.532427\tvalid-logloss:0.535572\n",
      "[290]\ttrain-logloss:0.531002\tvalid-logloss:0.534263\n",
      "[300]\ttrain-logloss:0.529627\tvalid-logloss:0.532992\n",
      "[310]\ttrain-logloss:0.528341\tvalid-logloss:0.531829\n",
      "[320]\ttrain-logloss:0.526779\tvalid-logloss:0.53034\n",
      "[330]\ttrain-logloss:0.525496\tvalid-logloss:0.52914\n",
      "[340]\ttrain-logloss:0.524173\tvalid-logloss:0.527894\n",
      "[350]\ttrain-logloss:0.522899\tvalid-logloss:0.526715\n",
      "[360]\ttrain-logloss:0.521709\tvalid-logloss:0.525591\n",
      "[370]\ttrain-logloss:0.520533\tvalid-logloss:0.524511\n",
      "[380]\ttrain-logloss:0.519416\tvalid-logloss:0.523467\n",
      "[390]\ttrain-logloss:0.518376\tvalid-logloss:0.522495\n"
     ]
    }
   ],
   "source": [
    "def xgboost2():\n",
    "    params = {}\n",
    "    params['objective'] = 'binary:logistic'\n",
    "    params['eval_metric'] = 'logloss'\n",
    "    params['eta'] = 0.02\n",
    "    params['max_depth'] = 4\n",
    "\n",
    "    d_train = xgb.DMatrix(X_train, label=y_train)\n",
    "    d_valid = xgb.DMatrix(X_test, label=y_test)\n",
    "\n",
    "    watchlist = [(d_train, 'train'), (d_valid, 'valid')]\n",
    "\n",
    "    bst = xgb.train(params, d_train, 400, watchlist, early_stopping_rounds=50, verbose_eval=10)\n",
    "    test = xgb.DMatrix(X_test)\n",
    "    test_valid = bst.predict(test)\n",
    "    res = pd.Series(test_valid).map(lambda x : 1 if x >= 0.5 else 0)\n",
    "    accuracy_score(y_test, res)\n",
    "xgboost2()\n",
    "    \n",
    "#     d_test = xgb.DMatrix(x_test)\n",
    "#     p_test = bst.predict(d_test)\n",
    "#     sub = pd.DataFrame()\n",
    "#     sub['test_id'] = df_test['test_id']\n",
    "#     sub['is_duplicate'] = p_test\n",
    "#     sub.to_csv('simple_xgb.csv', index=False)\n",
    "\n"
   ]
  }
 ],
 "metadata": {
  "kernelspec": {
   "display_name": "Python 2",
   "language": "python",
   "name": "python2"
  },
  "language_info": {
   "codemirror_mode": {
    "name": "ipython",
    "version": 2
   },
   "file_extension": ".py",
   "mimetype": "text/x-python",
   "name": "python",
   "nbconvert_exporter": "python",
   "pygments_lexer": "ipython2",
   "version": "2.7.12"
  }
 },
 "nbformat": 4,
 "nbformat_minor": 2
}
